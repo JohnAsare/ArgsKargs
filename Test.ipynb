{
 "cells": [
  {
   "cell_type": "code",
   "execution_count": 2,
   "metadata": {
    "collapsed": true
   },
   "outputs": [],
   "source": [
    "numbers = 1, 2, 3, 4, 5, 6, 7, 8, 9, 0\n",
    "even = [number for number in numbers if number%2==0]\n"
   ]
  }
 ],
 "metadata": {
  "kernelspec": {
   "name": "pycharm-c5b8028e",
   "language": "python",
   "display_name": "PyCharm (Udemy_Python)"
  },
  "language_info": {
   "codemirror_mode": {
    "name": "ipython",
    "version": 2
   },
   "file_extension": ".py",
   "mimetype": "text/x-python",
   "name": "python",
   "nbconvert_exporter": "python",
   "pygments_lexer": "ipython2",
   "version": "2.7.6"
  }
 },
 "nbformat": 4,
 "nbformat_minor": 0
}