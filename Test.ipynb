{
 "cells": [
  {
   "cell_type": "code",
   "execution_count": 2,
   "metadata": {
    "collapsed": true
   },
   "outputs": [],
   "source": [
    "numbers = 1, 2, 3, 4, 5, 6, 7, 8, 9, 0\n",
    "even = [number for number in numbers if number%2==0]"
   ]
  },
  {
   "cell_type": "code",
   "execution_count": 5,
   "outputs": [
    {
     "name": "stdout",
     "output_type": "stream",
     "text": [
      "T\n",
      "h\n",
      "I\n",
      "s\n",
      "I\n",
      "s\n",
      "M\n",
      "y\n",
      "N\n",
      "a\n",
      "M\n",
      "e\n"
     ]
    }
   ],
   "source": [
    "string = \"Thisismyname\"\n",
    "for letter in range(len(string)):\n",
    "    if letter % 2 == 0:\n",
    "        print(string[letter].upper())\n",
    "    else:\n",
    "        print(string[letter].lower())\n"
   ],
   "metadata": {
    "collapsed": false,
    "pycharm": {
     "name": "#%%\n"
    }
   }
  }
 ],
 "metadata": {
  "kernelspec": {
   "name": "python3",
   "language": "python",
   "display_name": "Python 3"
  },
  "language_info": {
   "codemirror_mode": {
    "name": "ipython",
    "version": 2
   },
   "file_extension": ".py",
   "mimetype": "text/x-python",
   "name": "python",
   "nbconvert_exporter": "python",
   "pygments_lexer": "ipython2",
   "version": "2.7.6"
  }
 },
 "nbformat": 4,
 "nbformat_minor": 0
}